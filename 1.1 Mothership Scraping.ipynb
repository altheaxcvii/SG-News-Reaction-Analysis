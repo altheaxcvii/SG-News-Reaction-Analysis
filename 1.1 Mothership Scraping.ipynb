{
 "cells": [
  {
   "cell_type": "code",
   "execution_count": 1,
   "metadata": {},
   "outputs": [],
   "source": [
    "from telethon.sync import TelegramClient\n",
    "import asyncio\n",
    "import pandas as pd\n",
    "import nest_asyncio\n",
    "from telethon.tl.types import MessageMediaPoll\n",
    "from telethon.tl.types import MessageReactions\n",
    "import re\n",
    "from bs4 import BeautifulSoup\n",
    "import requests\n",
    "from tqdm import tqdm \n",
    "nest_asyncio.apply()"
   ]
  },
  {
   "cell_type": "code",
   "execution_count": 3,
   "metadata": {},
   "outputs": [
    {
     "name": "stderr",
     "output_type": "stream",
     "text": [
      "Fetching Messages: 100%|██████████| 7000/7000 [01:10<00:00, 99.66message/s] \n"
     ]
    }
   ],
   "source": [
    "async def get_messages():\n",
    "    message_data = []\n",
    "    async with TelegramClient('anon', api_id, api_hash) as client:\n",
    "        # Get the total number of messages to fetch\n",
    "        total_messages = 7000\n",
    "\n",
    "        # Create the progress bar\n",
    "        progress_bar = tqdm(total=total_messages, desc='Fetching Messages', unit='message')\n",
    "\n",
    "        async for message in client.iter_messages('mothershipsg', limit=7000):\n",
    "            # Check if the message is a poll\n",
    "            poll_question = poll_choices = None\n",
    "            if isinstance(message.media, MessageMediaPoll):\n",
    "                poll_question = message.media.poll.question\n",
    "                poll_choices = [choice.text for choice in message.media.poll.answers]\n",
    "            \n",
    "            # Extract the reaction details\n",
    "            reaction_data = []\n",
    "            if message.reactions and isinstance(message.reactions, MessageReactions):\n",
    "                for reaction in message.reactions.results:\n",
    "                    emoticon = reaction.reaction.emoticon\n",
    "                    count = reaction.count\n",
    "                    reaction_data.append({emoticon: count})\n",
    "\n",
    "            # Each message is a row of data\n",
    "            row = {\n",
    "                'message_id': message.id,\n",
    "                'date': message.date,\n",
    "                'poll_question': poll_question,\n",
    "                'text': message.text,\n",
    "                'reactions': reaction_data,\n",
    "            }\n",
    "            # Add the row to the list\n",
    "            message_data.append(row)\n",
    "\n",
    "            # Update the progress bar\n",
    "            progress_bar.update()\n",
    "\n",
    "    # Close the progress bar after the loop is finished\n",
    "    progress_bar.close()\n",
    "\n",
    "    # Convert the list of dictionaries into a DataFrame\n",
    "    df = pd.DataFrame(message_data)\n",
    "    return df\n",
    "\n",
    "# Running the async function using asyncio.run\n",
    "new_loop = asyncio.new_event_loop()\n",
    "asyncio.set_event_loop(new_loop)\n",
    "df = asyncio.run(get_messages())"
   ]
  },
  {
   "cell_type": "code",
   "execution_count": 4,
   "metadata": {},
   "outputs": [],
   "source": [
    "#Removing poll messages\n",
    "df = df[df['poll_question'].isnull()]\n",
    "df = df.drop('poll_question', axis =1)"
   ]
  },
  {
   "cell_type": "code",
   "execution_count": 5,
   "metadata": {},
   "outputs": [],
   "source": [
    "#removing messages with no text\n",
    "df = df[df['text'] != '']"
   ]
  },
  {
   "cell_type": "code",
   "execution_count": 6,
   "metadata": {},
   "outputs": [],
   "source": [
    "#There are very litte reactions when Telegram first launched reactions so I will filter out the earlier messages\n",
    "df = df[df['date'] > '2022-02']"
   ]
  },
  {
   "cell_type": "code",
   "execution_count": 7,
   "metadata": {},
   "outputs": [],
   "source": [
    "df['main_text'] = df['text'].str.split('\\n')"
   ]
  },
  {
   "cell_type": "code",
   "execution_count": 15,
   "metadata": {},
   "outputs": [],
   "source": [
    "df['url'] = df['text'].str.extract('(http.*)')[0]"
   ]
  },
  {
   "cell_type": "code",
   "execution_count": 16,
   "metadata": {},
   "outputs": [],
   "source": [
    "df = df[df['url'].notna()]"
   ]
  },
  {
   "cell_type": "code",
   "execution_count": 17,
   "metadata": {},
   "outputs": [],
   "source": [
    "df = df[(df['main_text'].apply(len) == 5) | (df['main_text'].apply(len) == 7) | (df['main_text'].apply(len) == 9) | (df['main_text'].apply(len) == 8)]"
   ]
  },
  {
   "cell_type": "code",
   "execution_count": 18,
   "metadata": {},
   "outputs": [],
   "source": [
    "def join_except_last_three(strings_list):\n",
    "    if isinstance(strings_list, list) and len(strings_list) >= 3:\n",
    "        return ' '.join(strings_list[:-3]).strip()\n",
    "    elif isinstance(strings_list, list):\n",
    "        return ' '.join(strings_list).strip()\n",
    "    else:\n",
    "        return ''\n",
    "\n",
    "# Apply the custom function to create a new column\n",
    "df['joined_text'] = df['main_text'].apply(join_except_last_three)"
   ]
  },
  {
   "cell_type": "code",
   "execution_count": 19,
   "metadata": {},
   "outputs": [
    {
     "data": {
      "text/html": [
       "<div>\n",
       "<style scoped>\n",
       "    .dataframe tbody tr th:only-of-type {\n",
       "        vertical-align: middle;\n",
       "    }\n",
       "\n",
       "    .dataframe tbody tr th {\n",
       "        vertical-align: top;\n",
       "    }\n",
       "\n",
       "    .dataframe thead th {\n",
       "        text-align: right;\n",
       "    }\n",
       "</style>\n",
       "<table border=\"1\" class=\"dataframe\">\n",
       "  <thead>\n",
       "    <tr style=\"text-align: right;\">\n",
       "      <th></th>\n",
       "      <th>message_id</th>\n",
       "      <th>date</th>\n",
       "      <th>poll_question</th>\n",
       "      <th>text</th>\n",
       "      <th>reactions</th>\n",
       "      <th>main_text</th>\n",
       "      <th>url</th>\n",
       "      <th>joined_text</th>\n",
       "    </tr>\n",
       "  </thead>\n",
       "  <tbody>\n",
       "    <tr>\n",
       "      <th>5931</th>\n",
       "      <td>12053</td>\n",
       "      <td>2022-03-04 08:28:56+00:00</td>\n",
       "      <td>None</td>\n",
       "      <td>\"I don’t want Ukraine’s history to be a legend...</td>\n",
       "      <td>[{'😢': 405}, {'👍': 164}, {'❤': 45}, {'👎': 24},...</td>\n",
       "      <td>[\"I don’t want Ukraine’s history to be a legen...</td>\n",
       "      <td>https://bit.ly/35uHMm7</td>\n",
       "      <td>\"I don’t want Ukraine’s history to be a legend...</td>\n",
       "    </tr>\n",
       "    <tr>\n",
       "      <th>2581</th>\n",
       "      <td>15453</td>\n",
       "      <td>2022-12-19 13:31:00+00:00</td>\n",
       "      <td>None</td>\n",
       "      <td>\"If the owners are unable to fulfil the  minim...</td>\n",
       "      <td>[{'👎': 647}, {'👍': 428}, {'😱': 23}, {'😁': 13},...</td>\n",
       "      <td>[\"If the owners are unable to fulfil the  mini...</td>\n",
       "      <td>http://bit.ly/3HQPzvc</td>\n",
       "      <td>\"If the owners are unable to fulfil the  minim...</td>\n",
       "    </tr>\n",
       "    <tr>\n",
       "      <th>1121</th>\n",
       "      <td>16934</td>\n",
       "      <td>2023-05-01 09:32:34+00:00</td>\n",
       "      <td>None</td>\n",
       "      <td>\"So relax folks, there is really no need to hy...</td>\n",
       "      <td>[{'👎': 818}, {'👍': 104}, {'❤': 23}, {'😁': 16},...</td>\n",
       "      <td>[\"So relax folks, there is really no need to h...</td>\n",
       "      <td>https://t.me/mothershipsg)__</td>\n",
       "      <td>\"So relax folks, there is really no need to hy...</td>\n",
       "    </tr>\n",
       "    <tr>\n",
       "      <th>1313</th>\n",
       "      <td>16738</td>\n",
       "      <td>2023-04-14 05:02:05+00:00</td>\n",
       "      <td>None</td>\n",
       "      <td>\"Success 9\", the S’pore-registered vessel whic...</td>\n",
       "      <td>[{'😱': 1062}, {'😢': 145}, {'😁': 22}, {'🌚': 18}...</td>\n",
       "      <td>[\"Success 9\", the S’pore-registered vessel whi...</td>\n",
       "      <td>http://bit.ly/43JStdZ</td>\n",
       "      <td>\"Success 9\", the S’pore-registered vessel whic...</td>\n",
       "    </tr>\n",
       "    <tr>\n",
       "      <th>3512</th>\n",
       "      <td>14514</td>\n",
       "      <td>2022-09-24 10:25:05+00:00</td>\n",
       "      <td>None</td>\n",
       "      <td>\"Thanks also, of course, to the inspirational ...</td>\n",
       "      <td>[{'😁': 956}, {'😱': 135}, {'👎': 53}, {'👍': 35},...</td>\n",
       "      <td>[\"Thanks also, of course, to the inspirational...</td>\n",
       "      <td>https://bit.ly/3DOzYdC</td>\n",
       "      <td>\"Thanks also, of course, to the inspirational ...</td>\n",
       "    </tr>\n",
       "    <tr>\n",
       "      <th>...</th>\n",
       "      <td>...</td>\n",
       "      <td>...</td>\n",
       "      <td>...</td>\n",
       "      <td>...</td>\n",
       "      <td>...</td>\n",
       "      <td>...</td>\n",
       "      <td>...</td>\n",
       "      <td>...</td>\n",
       "    </tr>\n",
       "    <tr>\n",
       "      <th>2487</th>\n",
       "      <td>15547</td>\n",
       "      <td>2022-12-28 07:43:01+00:00</td>\n",
       "      <td>None</td>\n",
       "      <td>🫣 A 45-year-old tourist from New Zealand fell ...</td>\n",
       "      <td>[{'😱': 826}, {'😢': 145}, {'👍': 47}, {'😁': 40},...</td>\n",
       "      <td>[🫣 A 45-year-old tourist from New Zealand fell...</td>\n",
       "      <td>https://bit.ly/3G5Ospc</td>\n",
       "      <td>🫣 A 45-year-old tourist from New Zealand fell ...</td>\n",
       "    </tr>\n",
       "    <tr>\n",
       "      <th>4046</th>\n",
       "      <td>13973</td>\n",
       "      <td>2022-08-07 11:46:21+00:00</td>\n",
       "      <td>None</td>\n",
       "      <td>🫣 A man in M'sia confessed to eating a puppy h...</td>\n",
       "      <td>[{'👎': 1962}, {'😱': 595}, {'😢': 156}, {'🔥': 11...</td>\n",
       "      <td>[🫣 A man in M'sia confessed to eating a puppy ...</td>\n",
       "      <td>https://bit.ly/3Q92Y2Y</td>\n",
       "      <td>🫣 A man in M'sia confessed to eating a puppy h...</td>\n",
       "    </tr>\n",
       "    <tr>\n",
       "      <th>4230</th>\n",
       "      <td>13786</td>\n",
       "      <td>2022-07-22 12:24:26+00:00</td>\n",
       "      <td>None</td>\n",
       "      <td>🫣 Here’s a no-holds-barred review of KFC Korea...</td>\n",
       "      <td>[{'🎉': 156}, {'👎': 126}, {'😁': 71}, {'😱': 55},...</td>\n",
       "      <td>[🫣 Here’s a no-holds-barred review of KFC Kore...</td>\n",
       "      <td>https://bit.ly/3OslqSs</td>\n",
       "      <td>🫣 Here’s a no-holds-barred review of KFC Korea...</td>\n",
       "    </tr>\n",
       "    <tr>\n",
       "      <th>2688</th>\n",
       "      <td>15346</td>\n",
       "      <td>2022-12-09 11:30:08+00:00</td>\n",
       "      <td>None</td>\n",
       "      <td>🫣 S'porean influencers Noah Yap &amp; Chiou Huey m...</td>\n",
       "      <td>[{'👎': 738}, {'😁': 169}, {'😱': 114}, {'👍': 46}...</td>\n",
       "      <td>[🫣 S'porean influencers Noah Yap &amp; Chiou Huey ...</td>\n",
       "      <td>http://bit.ly/3hcVbFe</td>\n",
       "      <td>🫣 S'porean influencers Noah Yap &amp; Chiou Huey m...</td>\n",
       "    </tr>\n",
       "    <tr>\n",
       "      <th>2121</th>\n",
       "      <td>15918</td>\n",
       "      <td>2023-02-01 00:30:10+00:00</td>\n",
       "      <td>None</td>\n",
       "      <td>🫤 A woman in S'pore was supposedly denied her ...</td>\n",
       "      <td>[{'😢': 716}, {'😱': 97}, {'😁': 63}, {'👎': 56}, ...</td>\n",
       "      <td>[🫤 A woman in S'pore was supposedly denied her...</td>\n",
       "      <td>http://bit.ly/3XPkhdb</td>\n",
       "      <td>🫤 A woman in S'pore was supposedly denied her ...</td>\n",
       "    </tr>\n",
       "  </tbody>\n",
       "</table>\n",
       "<p>5964 rows × 8 columns</p>\n",
       "</div>"
      ],
      "text/plain": [
       "      message_id                      date poll_question  \\\n",
       "5931       12053 2022-03-04 08:28:56+00:00          None   \n",
       "2581       15453 2022-12-19 13:31:00+00:00          None   \n",
       "1121       16934 2023-05-01 09:32:34+00:00          None   \n",
       "1313       16738 2023-04-14 05:02:05+00:00          None   \n",
       "3512       14514 2022-09-24 10:25:05+00:00          None   \n",
       "...          ...                       ...           ...   \n",
       "2487       15547 2022-12-28 07:43:01+00:00          None   \n",
       "4046       13973 2022-08-07 11:46:21+00:00          None   \n",
       "4230       13786 2022-07-22 12:24:26+00:00          None   \n",
       "2688       15346 2022-12-09 11:30:08+00:00          None   \n",
       "2121       15918 2023-02-01 00:30:10+00:00          None   \n",
       "\n",
       "                                                   text  \\\n",
       "5931  \"I don’t want Ukraine’s history to be a legend...   \n",
       "2581  \"If the owners are unable to fulfil the  minim...   \n",
       "1121  \"So relax folks, there is really no need to hy...   \n",
       "1313  \"Success 9\", the S’pore-registered vessel whic...   \n",
       "3512  \"Thanks also, of course, to the inspirational ...   \n",
       "...                                                 ...   \n",
       "2487  🫣 A 45-year-old tourist from New Zealand fell ...   \n",
       "4046  🫣 A man in M'sia confessed to eating a puppy h...   \n",
       "4230  🫣 Here’s a no-holds-barred review of KFC Korea...   \n",
       "2688  🫣 S'porean influencers Noah Yap & Chiou Huey m...   \n",
       "2121  🫤 A woman in S'pore was supposedly denied her ...   \n",
       "\n",
       "                                              reactions  \\\n",
       "5931  [{'😢': 405}, {'👍': 164}, {'❤': 45}, {'👎': 24},...   \n",
       "2581  [{'👎': 647}, {'👍': 428}, {'😱': 23}, {'😁': 13},...   \n",
       "1121  [{'👎': 818}, {'👍': 104}, {'❤': 23}, {'😁': 16},...   \n",
       "1313  [{'😱': 1062}, {'😢': 145}, {'😁': 22}, {'🌚': 18}...   \n",
       "3512  [{'😁': 956}, {'😱': 135}, {'👎': 53}, {'👍': 35},...   \n",
       "...                                                 ...   \n",
       "2487  [{'😱': 826}, {'😢': 145}, {'👍': 47}, {'😁': 40},...   \n",
       "4046  [{'👎': 1962}, {'😱': 595}, {'😢': 156}, {'🔥': 11...   \n",
       "4230  [{'🎉': 156}, {'👎': 126}, {'😁': 71}, {'😱': 55},...   \n",
       "2688  [{'👎': 738}, {'😁': 169}, {'😱': 114}, {'👍': 46}...   \n",
       "2121  [{'😢': 716}, {'😱': 97}, {'😁': 63}, {'👎': 56}, ...   \n",
       "\n",
       "                                              main_text  \\\n",
       "5931  [\"I don’t want Ukraine’s history to be a legen...   \n",
       "2581  [\"If the owners are unable to fulfil the  mini...   \n",
       "1121  [\"So relax folks, there is really no need to h...   \n",
       "1313  [\"Success 9\", the S’pore-registered vessel whi...   \n",
       "3512  [\"Thanks also, of course, to the inspirational...   \n",
       "...                                                 ...   \n",
       "2487  [🫣 A 45-year-old tourist from New Zealand fell...   \n",
       "4046  [🫣 A man in M'sia confessed to eating a puppy ...   \n",
       "4230  [🫣 Here’s a no-holds-barred review of KFC Kore...   \n",
       "2688  [🫣 S'porean influencers Noah Yap & Chiou Huey ...   \n",
       "2121  [🫤 A woman in S'pore was supposedly denied her...   \n",
       "\n",
       "                               url  \\\n",
       "5931        https://bit.ly/35uHMm7   \n",
       "2581         http://bit.ly/3HQPzvc   \n",
       "1121  https://t.me/mothershipsg)__   \n",
       "1313         http://bit.ly/43JStdZ   \n",
       "3512        https://bit.ly/3DOzYdC   \n",
       "...                            ...   \n",
       "2487        https://bit.ly/3G5Ospc   \n",
       "4046        https://bit.ly/3Q92Y2Y   \n",
       "4230        https://bit.ly/3OslqSs   \n",
       "2688         http://bit.ly/3hcVbFe   \n",
       "2121         http://bit.ly/3XPkhdb   \n",
       "\n",
       "                                            joined_text  \n",
       "5931  \"I don’t want Ukraine’s history to be a legend...  \n",
       "2581  \"If the owners are unable to fulfil the  minim...  \n",
       "1121  \"So relax folks, there is really no need to hy...  \n",
       "1313  \"Success 9\", the S’pore-registered vessel whic...  \n",
       "3512  \"Thanks also, of course, to the inspirational ...  \n",
       "...                                                 ...  \n",
       "2487  🫣 A 45-year-old tourist from New Zealand fell ...  \n",
       "4046  🫣 A man in M'sia confessed to eating a puppy h...  \n",
       "4230  🫣 Here’s a no-holds-barred review of KFC Korea...  \n",
       "2688  🫣 S'porean influencers Noah Yap & Chiou Huey m...  \n",
       "2121  🫤 A woman in S'pore was supposedly denied her ...  \n",
       "\n",
       "[5964 rows x 8 columns]"
      ]
     },
     "execution_count": 19,
     "metadata": {},
     "output_type": "execute_result"
    }
   ],
   "source": [
    "df.sort_values(by='joined_text', ascending=True)"
   ]
  },
  {
   "cell_type": "code",
   "execution_count": 20,
   "metadata": {},
   "outputs": [],
   "source": [
    "# Convert from UTC to SGT (which is 'Asia/Singapore' in pytz)\n",
    "df['date'] = df['date'].dt.tz_convert('Asia/Singapore')\n",
    "\n",
    "\n",
    "# Convert datetime to string\n",
    "df['time'] = df['date'].dt.strftime('%H:%M')\n",
    "df['date'] = df['date'].dt.strftime('%Y-%m-%d')"
   ]
  },
  {
   "cell_type": "code",
   "execution_count": 21,
   "metadata": {},
   "outputs": [],
   "source": [
    "def extract_shortened_url(url):\n",
    "    pattern = r'\\bhttps?://bit\\.ly/\\w+\\b'\n",
    "    match = re.search(pattern, url)\n",
    "    if match:\n",
    "        return match.group()\n",
    "    else:\n",
    "        return url\n",
    "    \n",
    "df['url'] = df['url'].apply(extract_shortened_url)"
   ]
  },
  {
   "cell_type": "code",
   "execution_count": 22,
   "metadata": {},
   "outputs": [],
   "source": [
    "df = df[~df['url'].str.len().isin([28, 26, 24, 17, 196, 138, 55, 32, 29, 30, 206, 124, 58, 45])]"
   ]
  },
  {
   "cell_type": "code",
   "execution_count": 24,
   "metadata": {},
   "outputs": [],
   "source": [
    "df.to_excel('Dataset/mothershipsg.xlsx', index=False)"
   ]
  },
  {
   "cell_type": "markdown",
   "metadata": {},
   "source": [
    "## HERE"
   ]
  },
  {
   "cell_type": "code",
   "execution_count": 2,
   "metadata": {},
   "outputs": [],
   "source": [
    "df = pd.read_excel('Dataset/mothershipsg.xlsx')"
   ]
  },
  {
   "cell_type": "code",
   "execution_count": 3,
   "metadata": {},
   "outputs": [
    {
     "data": {
      "text/html": [
       "<div>\n",
       "<style scoped>\n",
       "    .dataframe tbody tr th:only-of-type {\n",
       "        vertical-align: middle;\n",
       "    }\n",
       "\n",
       "    .dataframe tbody tr th {\n",
       "        vertical-align: top;\n",
       "    }\n",
       "\n",
       "    .dataframe thead th {\n",
       "        text-align: right;\n",
       "    }\n",
       "</style>\n",
       "<table border=\"1\" class=\"dataframe\">\n",
       "  <thead>\n",
       "    <tr style=\"text-align: right;\">\n",
       "      <th></th>\n",
       "      <th>message_id</th>\n",
       "      <th>date</th>\n",
       "      <th>text</th>\n",
       "      <th>reactions</th>\n",
       "      <th>main_text</th>\n",
       "      <th>url</th>\n",
       "      <th>joined_text</th>\n",
       "      <th>time</th>\n",
       "    </tr>\n",
       "  </thead>\n",
       "  <tbody>\n",
       "    <tr>\n",
       "      <th>0</th>\n",
       "      <td>18063</td>\n",
       "      <td>2023-07-25</td>\n",
       "      <td>🥺 A cat is balding because his friend kept lic...</td>\n",
       "      <td>[{'😁': 576}, {'❤': 140}, {'🤩': 17}, {'😢': 8}, ...</td>\n",
       "      <td>['🥺 A cat is balding because his friend kept l...</td>\n",
       "      <td>https://bit.ly/3q4COXw</td>\n",
       "      <td>🥺 A cat is balding because his friend kept lic...</td>\n",
       "      <td>23:01</td>\n",
       "    </tr>\n",
       "    <tr>\n",
       "      <th>1</th>\n",
       "      <td>18062</td>\n",
       "      <td>2023-07-25</td>\n",
       "      <td>😱 A man in China attempted to blackmail a rest...</td>\n",
       "      <td>[{'😱': 325}, {'😁': 71}, {'👎': 46}, {'🌚': 18}, ...</td>\n",
       "      <td>['😱 A man in China attempted to blackmail a re...</td>\n",
       "      <td>https://bit.ly/3DtL4n2</td>\n",
       "      <td>😱 A man in China attempted to blackmail a rest...</td>\n",
       "      <td>22:00</td>\n",
       "    </tr>\n",
       "    <tr>\n",
       "      <th>2</th>\n",
       "      <td>18061</td>\n",
       "      <td>2023-07-25</td>\n",
       "      <td>🌕 2 supermoons will be visible across S'pore o...</td>\n",
       "      <td>[{'🌚': 267}, {'❤': 64}, {'🤩': 27}, {'👍': 18}, ...</td>\n",
       "      <td>[\"🌕 2 supermoons will be visible across S'pore...</td>\n",
       "      <td>https://bit.ly/3OrKJGH</td>\n",
       "      <td>🌕 2 supermoons will be visible across S'pore o...</td>\n",
       "      <td>21:02</td>\n",
       "    </tr>\n",
       "    <tr>\n",
       "      <th>3</th>\n",
       "      <td>18060</td>\n",
       "      <td>2023-07-25</td>\n",
       "      <td>☝️ The owner of a peacock, which attacked a 3-...</td>\n",
       "      <td>[{'👎': 608}, {'😱': 97}, {'👍': 52}, {'😢': 26}, ...</td>\n",
       "      <td>['☝️ The owner of a peacock, which attacked a ...</td>\n",
       "      <td>https://bit.ly/3KhngGH</td>\n",
       "      <td>☝️ The owner of a peacock, which attacked a 3-...</td>\n",
       "      <td>20:01</td>\n",
       "    </tr>\n",
       "    <tr>\n",
       "      <th>4</th>\n",
       "      <td>18059</td>\n",
       "      <td>2023-07-25</td>\n",
       "      <td>🙃 Prices of Spotify premium plans are going up...</td>\n",
       "      <td>[{'👎': 1341}, {'😢': 170}, {'👍': 18}, {'😱': 14}...</td>\n",
       "      <td>['🙃 Prices of Spotify premium plans are going ...</td>\n",
       "      <td>https://bit.ly/3DsjOFn</td>\n",
       "      <td>🙃 Prices of Spotify premium plans are going up...</td>\n",
       "      <td>19:01</td>\n",
       "    </tr>\n",
       "    <tr>\n",
       "      <th>...</th>\n",
       "      <td>...</td>\n",
       "      <td>...</td>\n",
       "      <td>...</td>\n",
       "      <td>...</td>\n",
       "      <td>...</td>\n",
       "      <td>...</td>\n",
       "      <td>...</td>\n",
       "      <td>...</td>\n",
       "    </tr>\n",
       "    <tr>\n",
       "      <th>5933</th>\n",
       "      <td>11691</td>\n",
       "      <td>2022-02-01</td>\n",
       "      <td>🧧 Would you dress up as a fortune cat for Chin...</td>\n",
       "      <td>[{'👍': 307}, {'😁': 95}, {'👎': 28}, {'❤': 19}, ...</td>\n",
       "      <td>['🧧 Would you dress up as a fortune cat for Ch...</td>\n",
       "      <td>https://bit.ly/3KSHq8C</td>\n",
       "      <td>🧧 Would you dress up as a fortune cat for Chin...</td>\n",
       "      <td>16:30</td>\n",
       "    </tr>\n",
       "    <tr>\n",
       "      <th>5934</th>\n",
       "      <td>11690</td>\n",
       "      <td>2022-02-01</td>\n",
       "      <td>🎬 Our writer got to watch 'Ah Girls Go Army’ o...</td>\n",
       "      <td>[{'👎': 364}, {'👍': 61}, {'😁': 23}, {'😱': 15}, ...</td>\n",
       "      <td>[\"🎬 Our writer got to watch 'Ah Girls Go Army’...</td>\n",
       "      <td>https://bit.ly/3LavQWK</td>\n",
       "      <td>🎬 Our writer got to watch 'Ah Girls Go Army’ o...</td>\n",
       "      <td>15:30</td>\n",
       "    </tr>\n",
       "    <tr>\n",
       "      <th>5935</th>\n",
       "      <td>11689</td>\n",
       "      <td>2022-02-01</td>\n",
       "      <td>A total of 62 men &amp; women, aged between 25 to ...</td>\n",
       "      <td>[{'🎉': 176}, {'👍': 71}, {'😱': 35}, {'👎': 20}, ...</td>\n",
       "      <td>['A total of 62 men &amp; women, aged between 25 t...</td>\n",
       "      <td>https://bit.ly/3oAOX2D</td>\n",
       "      <td>A total of 62 men &amp; women, aged between 25 to ...</td>\n",
       "      <td>13:31</td>\n",
       "    </tr>\n",
       "    <tr>\n",
       "      <th>5936</th>\n",
       "      <td>11688</td>\n",
       "      <td>2022-02-01</td>\n",
       "      <td>[Ad] Just in time for Chinese New Year, StarHu...</td>\n",
       "      <td>[{'👎': 126}, {'👍': 45}, {'😱': 11}, {'🔥': 8}, {...</td>\n",
       "      <td>['[Ad] Just in time for Chinese New Year, Star...</td>\n",
       "      <td>https://bit.ly/3APERzr</td>\n",
       "      <td>[Ad] Just in time for Chinese New Year, StarHu...</td>\n",
       "      <td>12:00</td>\n",
       "    </tr>\n",
       "    <tr>\n",
       "      <th>5937</th>\n",
       "      <td>11687</td>\n",
       "      <td>2022-02-01</td>\n",
       "      <td>A Chinese New Year video in M’sia has taken th...</td>\n",
       "      <td>[{'❤': 284}, {'👍': 72}, {'👎': 24}, {'😁': 18}, ...</td>\n",
       "      <td>['A Chinese New Year video in M’sia has taken ...</td>\n",
       "      <td>https://bit.ly/3oe1oBd</td>\n",
       "      <td>A Chinese New Year video in M’sia has taken th...</td>\n",
       "      <td>11:30</td>\n",
       "    </tr>\n",
       "  </tbody>\n",
       "</table>\n",
       "<p>5938 rows × 8 columns</p>\n",
       "</div>"
      ],
      "text/plain": [
       "      message_id        date  \\\n",
       "0          18063  2023-07-25   \n",
       "1          18062  2023-07-25   \n",
       "2          18061  2023-07-25   \n",
       "3          18060  2023-07-25   \n",
       "4          18059  2023-07-25   \n",
       "...          ...         ...   \n",
       "5933       11691  2022-02-01   \n",
       "5934       11690  2022-02-01   \n",
       "5935       11689  2022-02-01   \n",
       "5936       11688  2022-02-01   \n",
       "5937       11687  2022-02-01   \n",
       "\n",
       "                                                   text  \\\n",
       "0     🥺 A cat is balding because his friend kept lic...   \n",
       "1     😱 A man in China attempted to blackmail a rest...   \n",
       "2     🌕 2 supermoons will be visible across S'pore o...   \n",
       "3     ☝️ The owner of a peacock, which attacked a 3-...   \n",
       "4     🙃 Prices of Spotify premium plans are going up...   \n",
       "...                                                 ...   \n",
       "5933  🧧 Would you dress up as a fortune cat for Chin...   \n",
       "5934  🎬 Our writer got to watch 'Ah Girls Go Army’ o...   \n",
       "5935  A total of 62 men & women, aged between 25 to ...   \n",
       "5936  [Ad] Just in time for Chinese New Year, StarHu...   \n",
       "5937  A Chinese New Year video in M’sia has taken th...   \n",
       "\n",
       "                                              reactions  \\\n",
       "0     [{'😁': 576}, {'❤': 140}, {'🤩': 17}, {'😢': 8}, ...   \n",
       "1     [{'😱': 325}, {'😁': 71}, {'👎': 46}, {'🌚': 18}, ...   \n",
       "2     [{'🌚': 267}, {'❤': 64}, {'🤩': 27}, {'👍': 18}, ...   \n",
       "3     [{'👎': 608}, {'😱': 97}, {'👍': 52}, {'😢': 26}, ...   \n",
       "4     [{'👎': 1341}, {'😢': 170}, {'👍': 18}, {'😱': 14}...   \n",
       "...                                                 ...   \n",
       "5933  [{'👍': 307}, {'😁': 95}, {'👎': 28}, {'❤': 19}, ...   \n",
       "5934  [{'👎': 364}, {'👍': 61}, {'😁': 23}, {'😱': 15}, ...   \n",
       "5935  [{'🎉': 176}, {'👍': 71}, {'😱': 35}, {'👎': 20}, ...   \n",
       "5936  [{'👎': 126}, {'👍': 45}, {'😱': 11}, {'🔥': 8}, {...   \n",
       "5937  [{'❤': 284}, {'👍': 72}, {'👎': 24}, {'😁': 18}, ...   \n",
       "\n",
       "                                              main_text  \\\n",
       "0     ['🥺 A cat is balding because his friend kept l...   \n",
       "1     ['😱 A man in China attempted to blackmail a re...   \n",
       "2     [\"🌕 2 supermoons will be visible across S'pore...   \n",
       "3     ['☝️ The owner of a peacock, which attacked a ...   \n",
       "4     ['🙃 Prices of Spotify premium plans are going ...   \n",
       "...                                                 ...   \n",
       "5933  ['🧧 Would you dress up as a fortune cat for Ch...   \n",
       "5934  [\"🎬 Our writer got to watch 'Ah Girls Go Army’...   \n",
       "5935  ['A total of 62 men & women, aged between 25 t...   \n",
       "5936  ['[Ad] Just in time for Chinese New Year, Star...   \n",
       "5937  ['A Chinese New Year video in M’sia has taken ...   \n",
       "\n",
       "                         url  \\\n",
       "0     https://bit.ly/3q4COXw   \n",
       "1     https://bit.ly/3DtL4n2   \n",
       "2     https://bit.ly/3OrKJGH   \n",
       "3     https://bit.ly/3KhngGH   \n",
       "4     https://bit.ly/3DsjOFn   \n",
       "...                      ...   \n",
       "5933  https://bit.ly/3KSHq8C   \n",
       "5934  https://bit.ly/3LavQWK   \n",
       "5935  https://bit.ly/3oAOX2D   \n",
       "5936  https://bit.ly/3APERzr   \n",
       "5937  https://bit.ly/3oe1oBd   \n",
       "\n",
       "                                            joined_text   time  \n",
       "0     🥺 A cat is balding because his friend kept lic...  23:01  \n",
       "1     😱 A man in China attempted to blackmail a rest...  22:00  \n",
       "2     🌕 2 supermoons will be visible across S'pore o...  21:02  \n",
       "3     ☝️ The owner of a peacock, which attacked a 3-...  20:01  \n",
       "4     🙃 Prices of Spotify premium plans are going up...  19:01  \n",
       "...                                                 ...    ...  \n",
       "5933  🧧 Would you dress up as a fortune cat for Chin...  16:30  \n",
       "5934  🎬 Our writer got to watch 'Ah Girls Go Army’ o...  15:30  \n",
       "5935  A total of 62 men & women, aged between 25 to ...  13:31  \n",
       "5936  [Ad] Just in time for Chinese New Year, StarHu...  12:00  \n",
       "5937  A Chinese New Year video in M’sia has taken th...  11:30  \n",
       "\n",
       "[5938 rows x 8 columns]"
      ]
     },
     "execution_count": 3,
     "metadata": {},
     "output_type": "execute_result"
    }
   ],
   "source": [
    "df"
   ]
  },
  {
   "cell_type": "code",
   "execution_count": 4,
   "metadata": {},
   "outputs": [],
   "source": [
    "def get_web_text(link):\n",
    "    try:\n",
    "        response = requests.get(link)\n",
    "        soup = BeautifulSoup(response.text, 'lxml')\n",
    "        para = soup.find_all(\"div\", class_=\"content-article-wrap\")\n",
    "        p_contents = re.findall(r'<p>(.*?)</p>', str(para), re.DOTALL)\n",
    "        for i in range(len(p_contents)):\n",
    "            p_contents[i] = re.sub(r'<[^>]+>', '', p_contents[i])\n",
    "        filtered_list = list(filter(None, p_contents))\n",
    "        filtered_list_no_whitespace = [s.strip() for s in filtered_list]\n",
    "        result_string = ' '.join(filtered_list_no_whitespace)\n",
    "        return result_string.replace('Follow us on Telegram for the latest updates: https://t.me/mothershipsg ', '')\n",
    "    except (requests.RequestException, ValueError) as e:\n",
    "        print(f\"Error occurred for URL: {link}\")\n",
    "        print(e)\n",
    "        return None"
   ]
  },
  {
   "cell_type": "code",
   "execution_count": 5,
   "metadata": {},
   "outputs": [
    {
     "data": {
      "text/plain": [
       "'As someone who was forced to be a hermit almost seven days a week thanks to Covid-19, going out for events have been such a treat. It\\'s like an extended break on top of my hour-long lunchtime, if you will. So when my editor arrowed asked me if I could go for the media preview of Jack Neo\\'s \"Ah Girls Go Army\" (AGGA), I said most enthusiastically, \"Ok can\". Here\\'s the official synopsis: \"WHAT IF, in the unforeseen future, when there are not enough boys in Singapore? If Girls have to serve National Service also, what will happen? The story will focus on the first batch of female recruits, a bunch of Gen Z teens and youngsters with different backgrounds and education. As they trained under the fierce leadership of Sergeant Chow and Lieutenant Roxanne, they find themselves being pushed to the limit of their potential. Together, they overcome hardship and initial resistance to serve NS and discover newfound abilities, using it to solve and mend relationships in their personal life as well.\" And here\\'s the trailer:  \"The travesty,\" some film snobs (and, let\\'s be honest, normal filmgoers as well) might exclaim. Even before the movie hit the big screens, it\\'s already gotten some flak. Viewers criticised the movie\\'s earworm of a theme song, as well as the character name \"Amanda Man\" played by transgender actress Kelly Kimberly Cheong . The name was later changed to Amanda Ong. Undeterred, I was determined to watch the movie objectively as a Singaporean woman who had little to no understanding of how National Service works. Here\\'s the good and the... not so good. Like other Jack Neo films, most of the character names reflect their traits. Can you tell that her name is Princess See? Stills from \"Ah Girls Go Army\".    It is not pre-mature to say that viewers will find problematic what Neo attempts to pass for a joke in this era. Now, this is a double-edged sword. On one hand, the comedic elements are easy to grasp, as expected from a family-friendly movie. A recruit falling in while wearing a facial mask and recruits mispronouncing bravo as mabok are simple haha moments. But it won\\'t make you go hahahahaha. On the other hand, some jokes were recycled from past movies. For example, Princess See said \"terrigible, horrigible, vegetable\", a line from \"I Not Stupid\". Though, I\\'m slightly disappointed Liang Po Po didn\\'t make an appearance whenever the sergeants said \"My grandmother can run faster than you\". Ok, that\\'s an exaggeration. But if you think the devil works hard, the sponsorship team works harder. Much like past Jack Neo films, AGGA is generously seasoned with a lot of product placements. Barely five minutes into the film, the platoon sergeants treated the new recruits to a meal delivered in large pink foodpanda paper bags. Look at the foodpanda paper bags. Screenshot from trailer. Scared you\\'ll get insect bites in the bunk? Don\\'t worry because the sergeant explained that it has been painted with Nippon Paint, which apparently has anti-mosquito properties. Before the female recruits put on the widely-detested camo cream, a recruit gave out samples of New York Skin Solutions face cream to her mates. Other sponsors that my brain remembered just from watching the movie:    Go get that bag, I guess. You know which one I\\'m talking about.  Because it sounds so much like a nursery rhyme (think 1, 2, 3, 4, 5 Once I Caught a Fish Alive), I went out of the theatres humming \"don\\'t anyhow hang bra and panties.\" Be warned, this song is played at least three times in the film. Send. Help. The film started off with the recruits at Girls Basic Military Training (GBMT)... and ended with them still at GBMT. Yes, they learnt some hand signs while out on the field, were told to \"down 20\" multiple times and had the \"marching in the rain because that shit builds character\" scene. Still from \"Ah Girls Go Army\". But there wasn\\'t much of a plot and characters were merely introduced without much progression. Cheong was one of the reasons I looked forward to the screening.    However, she only had a few lines. But her scenes were also among the most thrilling, including the part where she protected her friends by singlehandedly carrying the bully away. While I was relieved that the film ended, I was also slightly enraged that there was no proper ending... BECAUSE IT ENDED WITH A CLIFFHANGER. If there\\'s a GBMT, is there a BBMT (Boys Basic Military Training)? If GBMT is not in Tekong, where is it located? Is the drop-off point also at Pasir Ris? When will the theme song stop replaying in my head? How often do real platoon sergeants say \"bloody [insert expletive]\" in a day? I\\'d rather be cooped up at home and assigned to cover a Parliament\\'s debate (if theÂ\\xa0parliament editor is seeing this, no you didn\\'t) than to sit through this movie again. My biggest hang-ups? The cliffhanger and intentionally terrible English. That said, I\\'d rather watch the movie than listen to the theme song. Seriously, make it stop replaying in my head. \"Ah Girls Go Army\" will be in the theatres from Feb. 1, 2022. Top image from \"Ah Girls Go Army\".'"
      ]
     },
     "execution_count": 5,
     "metadata": {},
     "output_type": "execute_result"
    }
   ],
   "source": [
    "get_web_text('https://bit.ly/3LavQWK')"
   ]
  },
  {
   "cell_type": "code",
   "execution_count": 6,
   "metadata": {},
   "outputs": [],
   "source": [
    "import warnings\n",
    "import urllib3\n",
    "\n",
    "# Filter and ignore the InsecureRequestWarning\n",
    "warnings.filterwarnings(\"ignore\", category=urllib3.exceptions.InsecureRequestWarning)"
   ]
  },
  {
   "cell_type": "code",
   "execution_count": 33,
   "metadata": {},
   "outputs": [],
   "source": [
    "from concurrent.futures import ThreadPoolExecutor\n",
    "def process_links_with_multithreading(links):\n",
    "    with ThreadPoolExecutor(max_workers=12) as executor:  # Set the number of threads you want to use\n",
    "        # Use list comprehension to submit tasks to the executor\n",
    "        results = [executor.submit(get_web_text, link) for link in links]\n",
    "        \n",
    "        # Get the results when the tasks are completed\n",
    "        return [future.result() for future in results]"
   ]
  },
  {
   "cell_type": "code",
   "execution_count": 34,
   "metadata": {},
   "outputs": [
    {
     "name": "stderr",
     "output_type": "stream",
     "text": [
      "Processing URLs:   6%|▋         | 371/5737 [00:23<05:08, 17.39it/s]"
     ]
    },
    {
     "name": "stdout",
     "output_type": "stream",
     "text": [
      "Error occurred for URL: https://bit.ly/3PoE02h\n",
      "HTTPSConnectionPool(host='www.crateandbarrel.com.sg', port=443): Max retries exceeded with url: / (Caused by NewConnectionError('<urllib3.connection.HTTPSConnection object at 0x000001C632C7CB80>: Failed to establish a new connection: [WinError 10013] An attempt was made to access a socket in a way forbidden by its access permissions'))\n"
     ]
    },
    {
     "name": "stderr",
     "output_type": "stream",
     "text": [
      "Processing URLs:  30%|███       | 1730/5737 [01:43<02:50, 23.47it/s]"
     ]
    },
    {
     "name": "stdout",
     "output_type": "stream",
     "text": [
      "Error occurred for URL: http://bit.ly/3xorXaX\n",
      "HTTPSConnectionPool(host='voting.youthactionplan.sg', port=443): Max retries exceeded with url: / (Caused by NewConnectionError('<urllib3.connection.HTTPSConnection object at 0x000001C63C63C6D0>: Failed to establish a new connection: [Errno 11001] getaddrinfo failed'))\n"
     ]
    },
    {
     "name": "stderr",
     "output_type": "stream",
     "text": [
      "Processing URLs:  41%|████▏     | 2375/5737 [02:22<02:05, 26.74it/s]"
     ]
    },
    {
     "name": "stdout",
     "output_type": "stream",
     "text": [
      "Error occurred for URL: http://bit.ly/3BtbFQi\n",
      "HTTPSConnectionPool(host='mothership.sg', port=443): Max retries exceeded with url: /2022/12/sim-ann-leong-mun-wai-bto/?utm_source=tele+&utm_medium=referral+&utm_campaign=MS+ (Caused by SSLError(SSLError(1, '[SSL: SSLV3_ALERT_BAD_RECORD_MAC] sslv3 alert bad record mac (_ssl.c:2548)')))\n"
     ]
    },
    {
     "name": "stderr",
     "output_type": "stream",
     "text": [
      "Processing URLs:  70%|███████   | 4035/5737 [04:10<01:21, 20.82it/s]"
     ]
    },
    {
     "name": "stdout",
     "output_type": "stream",
     "text": [
      "Error occurred for URL: https://bit.ly/3MUc816\n",
      "HTTPSConnectionPool(host='sco.com.sg', port=443): Max retries exceeded with url: /scmc/ (Caused by SSLError(SSLCertVerificationError(1, '[SSL: CERTIFICATE_VERIFY_FAILED] certificate verify failed: unable to get local issuer certificate (_ssl.c:997)')))\n"
     ]
    },
    {
     "name": "stderr",
     "output_type": "stream",
     "text": [
      "Processing URLs: 100%|█████████▉| 5735/5737 [05:55<00:00, 24.15it/s]C:\\Users\\user\\AppData\\Local\\Temp\\ipykernel_10832\\2761072053.py:26: SettingWithCopyWarning: \n",
      "A value is trying to be set on a copy of a slice from a DataFrame.\n",
      "Try using .loc[row_indexer,col_indexer] = value instead\n",
      "\n",
      "See the caveats in the documentation: https://pandas.pydata.org/pandas-docs/stable/user_guide/indexing.html#returning-a-view-versus-a-copy\n",
      "  df['web_text'] = df['url'].map(url_to_web_content)\n",
      "Processing URLs: 100%|██████████| 5737/5737 [05:57<00:00, 16.06it/s]"
     ]
    },
    {
     "name": "stdout",
     "output_type": "stream",
     "text": [
      "Error occurred for URL: https://bit.ly/3AMcMt9\n",
      "HTTPSConnectionPool(host='posb.hyz.sqkii.com', port=443): Max retries exceeded with url: /?dclid=CLmKjISkqoADFUuoZgId1v0IEw (Caused by NewConnectionError('<urllib3.connection.HTTPSConnection object at 0x000001C63302B4F0>: Failed to establish a new connection: [WinError 10061] No connection could be made because the target machine actively refused it'))\n"
     ]
    },
    {
     "name": "stderr",
     "output_type": "stream",
     "text": [
      "\n"
     ]
    }
   ],
   "source": [
    "if __name__ == \"__main__\":\n",
    "    # Replace links_list with the list of unique links in the 'url' column of df\n",
    "    links_list = df['url'].unique().tolist()\n",
    "\n",
    "    # Initialize the progress bar\n",
    "    progress_bar = tqdm(total=len(links_list), desc='Processing URLs')\n",
    "\n",
    "    def update_progress(future):\n",
    "        # This function is called whenever a thread completes its task\n",
    "        progress_bar.update(1)\n",
    "\n",
    "    # Process links using multi-threading\n",
    "    with ThreadPoolExecutor() as executor:\n",
    "        # Submit tasks and use update_progress as a callback when tasks complete\n",
    "        futures = [executor.submit(get_web_text, link) for link in links_list]\n",
    "        for future in futures:\n",
    "            future.add_done_callback(update_progress)\n",
    "\n",
    "        # Get the results when the tasks are completed\n",
    "        results = [future.result() for future in futures]\n",
    "\n",
    "    # Create a dictionary to map URLs to their corresponding web content\n",
    "    url_to_web_content = {link: content for link, content in zip(links_list, results)}\n",
    "\n",
    "    # Update the 'WebText' column in the DataFrame with the web content\n",
    "    df['web_text'] = df['url'].map(url_to_web_content)\n",
    "\n",
    "    # Close the progress bar\n",
    "    progress_bar.close()"
   ]
  },
  {
   "cell_type": "code",
   "execution_count": 35,
   "metadata": {},
   "outputs": [
    {
     "name": "stderr",
     "output_type": "stream",
     "text": [
      "C:\\Users\\user\\AppData\\Local\\Temp\\ipykernel_10832\\746556694.py:1: SettingWithCopyWarning: \n",
      "A value is trying to be set on a copy of a slice from a DataFrame.\n",
      "Try using .loc[row_indexer,col_indexer] = value instead\n",
      "\n",
      "See the caveats in the documentation: https://pandas.pydata.org/pandas-docs/stable/user_guide/indexing.html#returning-a-view-versus-a-copy\n",
      "  df['web_text'] = df['web_text'].str.strip()\n"
     ]
    }
   ],
   "source": [
    "df['web_text'] = df['web_text'].str.strip()"
   ]
  },
  {
   "cell_type": "code",
   "execution_count": 36,
   "metadata": {},
   "outputs": [],
   "source": [
    "df = df[df['web_text'] != '']"
   ]
  },
  {
   "cell_type": "code",
   "execution_count": 40,
   "metadata": {},
   "outputs": [],
   "source": [
    "df.to_excel('Dataset/mothershipsg.xlsx', index=False)"
   ]
  }
 ],
 "metadata": {
  "kernelspec": {
   "display_name": "base",
   "language": "python",
   "name": "python3"
  },
  "language_info": {
   "codemirror_mode": {
    "name": "ipython",
    "version": 3
   },
   "file_extension": ".py",
   "mimetype": "text/x-python",
   "name": "python",
   "nbconvert_exporter": "python",
   "pygments_lexer": "ipython3",
   "version": "3.10.9"
  },
  "orig_nbformat": 4
 },
 "nbformat": 4,
 "nbformat_minor": 2
}
