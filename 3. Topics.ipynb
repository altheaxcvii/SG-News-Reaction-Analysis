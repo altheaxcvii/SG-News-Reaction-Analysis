{
 "cells": [
  {
   "cell_type": "code",
   "execution_count": 1,
   "metadata": {},
   "outputs": [],
   "source": [
    "import pandas as pd"
   ]
  },
  {
   "cell_type": "code",
   "execution_count": 35,
   "metadata": {},
   "outputs": [],
   "source": [
    "df = pd.read_excel('Dataset/topics_and_top_words.xlsx', header=None)"
   ]
  },
  {
   "cell_type": "code",
   "execution_count": 11,
   "metadata": {},
   "outputs": [],
   "source": [
    "columns_to_combine = [1, 2, 3, 4, 5, 6, 7, 8, 9, 10, 11, 12, 13, 14, 15, 16, 17, 18,19, 20]"
   ]
  },
  {
   "cell_type": "code",
   "execution_count": 36,
   "metadata": {},
   "outputs": [],
   "source": [
    "df['top_20_words'] = df[columns_to_combine].apply(lambda row: ' '.join(row), axis=1)"
   ]
  },
  {
   "cell_type": "code",
   "execution_count": 15,
   "metadata": {},
   "outputs": [],
   "source": [
    "import openai"
   ]
  },
  {
   "cell_type": "code",
   "execution_count": 53,
   "metadata": {},
   "outputs": [],
   "source": [
    "def topic_generator(user_content):\n",
    "    try:\n",
    "        response = openai.ChatCompletion.create(\n",
    "            model=\"gpt-3.5-turbo\",\n",
    "            messages=[\n",
    "                {\n",
    "                    \"role\": \"system\",\n",
    "                    \"content\": \"i will give you a list of stemmed words and you predict what topic it is about without any explanation.\"\n",
    "                },\n",
    "                {\n",
    "                    \"role\": \"user\",\n",
    "                    \"content\": user_content\n",
    "                },\n",
    "                {\n",
    "                    \"role\": \"assistant\",\n",
    "                    \"content\": \"Sports or Athletics, possibly related to Singapore\"\n",
    "                }\n",
    "            ],\n",
    "            temperature=1,\n",
    "            max_tokens=256,\n",
    "            top_p=1,\n",
    "            frequency_penalty=0,\n",
    "            presence_penalty=0\n",
    "        )\n",
    "        return response['choices'][0]['message']['content']\n",
    "    except:  # Replace RateLimitError with the actual error raised when rate limit is exceeded\n",
    "        print(\"Rate limit exceeded. Sleeping for 1 minute.\")\n",
    "        time.sleep(60)  # Sleep for 1 minute (60 seconds)\n",
    "        return topic_generator(user_content)"
   ]
  },
  {
   "cell_type": "code",
   "execution_count": 26,
   "metadata": {},
   "outputs": [],
   "source": [
    "import time"
   ]
  },
  {
   "cell_type": "code",
   "execution_count": 39,
   "metadata": {},
   "outputs": [],
   "source": [
    "df.set_index(0, inplace=True)"
   ]
  },
  {
   "cell_type": "code",
   "execution_count": 44,
   "metadata": {},
   "outputs": [],
   "source": [
    "df['generated_topic'] = None"
   ]
  },
  {
   "cell_type": "code",
   "execution_count": 54,
   "metadata": {},
   "outputs": [
    {
     "name": "stdout",
     "output_type": "stream",
     "text": [
      "Rate limit exceeded. Sleeping for 1 minute.\n",
      "Rate limit exceeded. Sleeping for 1 minute.\n",
      "Rate limit exceeded. Sleeping for 1 minute.\n",
      "Rate limit exceeded. Sleeping for 1 minute.\n",
      "Rate limit exceeded. Sleeping for 1 minute.\n",
      "Rate limit exceeded. Sleeping for 1 minute.\n",
      "Rate limit exceeded. Sleeping for 1 minute.\n",
      "Rate limit exceeded. Sleeping for 1 minute.\n",
      "Rate limit exceeded. Sleeping for 1 minute.\n",
      "Rate limit exceeded. Sleeping for 1 minute.\n",
      "Rate limit exceeded. Sleeping for 1 minute.\n",
      "Rate limit exceeded. Sleeping for 1 minute.\n",
      "Rate limit exceeded. Sleeping for 1 minute.\n",
      "Rate limit exceeded. Sleeping for 1 minute.\n",
      "Rate limit exceeded. Sleeping for 1 minute.\n",
      "Rate limit exceeded. Sleeping for 1 minute.\n"
     ]
    }
   ],
   "source": [
    "for index, row in df.iterrows():\n",
    "    row['generated_topic'] = topic_generator(row['top_20_words'])"
   ]
  },
  {
   "cell_type": "code",
   "execution_count": 59,
   "metadata": {},
   "outputs": [],
   "source": [
    "df2 = pd.read_excel('Dataset/cleandraft.xlsx')"
   ]
  },
  {
   "cell_type": "code",
   "execution_count": 74,
   "metadata": {},
   "outputs": [],
   "source": [
    "df.index = df.index.str.extract(r'Topic_(\\d+)')[0].astype(int)"
   ]
  },
  {
   "cell_type": "code",
   "execution_count": 76,
   "metadata": {},
   "outputs": [],
   "source": [
    "topic_map = {}"
   ]
  },
  {
   "cell_type": "code",
   "execution_count": 81,
   "metadata": {},
   "outputs": [],
   "source": [
    "for index, row in df.iterrows():\n",
    "    topic_map[index] = row['generated_topic']"
   ]
  },
  {
   "cell_type": "code",
   "execution_count": 83,
   "metadata": {},
   "outputs": [],
   "source": [
    "df2['dominant_topic_generated'] = df2['dominant_topic'].map(topic_map)"
   ]
  },
  {
   "cell_type": "code",
   "execution_count": 85,
   "metadata": {},
   "outputs": [],
   "source": [
    "df2.to_excel('Dataset/cleandraft.xlsx')"
   ]
  }
 ],
 "metadata": {
  "kernelspec": {
   "display_name": "base",
   "language": "python",
   "name": "python3"
  },
  "language_info": {
   "codemirror_mode": {
    "name": "ipython",
    "version": 3
   },
   "file_extension": ".py",
   "mimetype": "text/x-python",
   "name": "python",
   "nbconvert_exporter": "python",
   "pygments_lexer": "ipython3",
   "version": "3.10.9"
  },
  "orig_nbformat": 4
 },
 "nbformat": 4,
 "nbformat_minor": 2
}
